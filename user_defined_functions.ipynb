{
  "nbformat": 4,
  "nbformat_minor": 0,
  "metadata": {
    "colab": {
      "provenance": []
    },
    "kernelspec": {
      "name": "python3",
      "display_name": "Python 3"
    },
    "language_info": {
      "name": "python"
    }
  },
  "cells": [
    {
      "cell_type": "markdown",
      "source": [
        "# **USER DEFINED FUNCTIONS**"
      ],
      "metadata": {
        "id": "z0X7CKRFRuRN"
      }
    },
    {
      "cell_type": "markdown",
      "source": [
        "Take two no's and add them together"
      ],
      "metadata": {
        "id": "18P8WJ8-R2p9"
      }
    },
    {
      "cell_type": "code",
      "execution_count": 1,
      "metadata": {
        "id": "nCZfKdUQRlfg"
      },
      "outputs": [],
      "source": [
        "def add(a,b):    # defining the function\n",
        "  sum=a+b\n",
        "  print(sum)"
      ]
    },
    {
      "cell_type": "code",
      "source": [
        "add(10,20)      # calling the function"
      ],
      "metadata": {
        "colab": {
          "base_uri": "https://localhost:8080/"
        },
        "id": "qnB9WawlSGwb",
        "outputId": "aa7d333c-d1d8-4e7b-aaa2-e3aab103ceb3"
      },
      "execution_count": 2,
      "outputs": [
        {
          "output_type": "stream",
          "name": "stdout",
          "text": [
            "30\n"
          ]
        }
      ]
    },
    {
      "cell_type": "code",
      "source": [
        "add(-2,-3)"
      ],
      "metadata": {
        "colab": {
          "base_uri": "https://localhost:8080/"
        },
        "id": "Fv2k8zV2SJWo",
        "outputId": "210d61e5-9155-40d9-eca6-465b130e2464"
      },
      "execution_count": 3,
      "outputs": [
        {
          "output_type": "stream",
          "name": "stdout",
          "text": [
            "-5\n"
          ]
        }
      ]
    },
    {
      "cell_type": "code",
      "source": [
        "add(4,9)"
      ],
      "metadata": {
        "colab": {
          "base_uri": "https://localhost:8080/"
        },
        "id": "1HEgIqKMSMdx",
        "outputId": "90b5135e-7e02-4416-fbdd-d1fd31b2a770"
      },
      "execution_count": 4,
      "outputs": [
        {
          "output_type": "stream",
          "name": "stdout",
          "text": [
            "13\n"
          ]
        }
      ]
    },
    {
      "cell_type": "markdown",
      "source": [
        "Create a function which takes two no's and display addition, substraction,multiplication and division of these two numbers"
      ],
      "metadata": {
        "id": "NkjPQ_FMSbO6"
      }
    },
    {
      "cell_type": "code",
      "source": [
        "def compute(a,b):\n",
        "  s=a+b\n",
        "  t=a-b\n",
        "  u=a*b\n",
        "  v=a/b\n",
        "  print(s,t,u,v)"
      ],
      "metadata": {
        "id": "vBzJvNJtSPqC"
      },
      "execution_count": 5,
      "outputs": []
    },
    {
      "cell_type": "code",
      "source": [
        "compute(7,9)"
      ],
      "metadata": {
        "colab": {
          "base_uri": "https://localhost:8080/"
        },
        "id": "M48PStsVTfAr",
        "outputId": "76224d08-df61-487f-e9bc-bb6b0f038d09"
      },
      "execution_count": 6,
      "outputs": [
        {
          "output_type": "stream",
          "name": "stdout",
          "text": [
            "16 -2 63 0.7777777777777778\n"
          ]
        }
      ]
    },
    {
      "cell_type": "code",
      "source": [
        "compute(4,2)"
      ],
      "metadata": {
        "colab": {
          "base_uri": "https://localhost:8080/"
        },
        "id": "3Dk39moETir4",
        "outputId": "2887311d-d135-4200-aaec-2c336c27b395"
      },
      "execution_count": 7,
      "outputs": [
        {
          "output_type": "stream",
          "name": "stdout",
          "text": [
            "6 2 8 2.0\n"
          ]
        }
      ]
    },
    {
      "cell_type": "markdown",
      "source": [
        "Create a function which display name,age ,city of a candidate"
      ],
      "metadata": {
        "id": "yMwCms2wTrQ5"
      }
    },
    {
      "cell_type": "code",
      "source": [
        "def info(name, age,city):\n",
        "  print(name,age,city)"
      ],
      "metadata": {
        "id": "iAhmfej2Toba"
      },
      "execution_count": 8,
      "outputs": []
    },
    {
      "cell_type": "code",
      "source": [
        "info('Rashmi',99,'Delhi')"
      ],
      "metadata": {
        "colab": {
          "base_uri": "https://localhost:8080/"
        },
        "id": "0ipwMSIlUpWY",
        "outputId": "2d8344e6-3c88-4894-be41-887f1a720e71"
      },
      "execution_count": 9,
      "outputs": [
        {
          "output_type": "stream",
          "name": "stdout",
          "text": [
            "Rashmi 99 Delhi\n"
          ]
        }
      ]
    },
    {
      "cell_type": "markdown",
      "source": [
        "Types of Arguments"
      ],
      "metadata": {
        "id": "iJYwQVqEVGHP"
      }
    },
    {
      "cell_type": "code",
      "source": [
        "#Positional arguments\n",
        "\n",
        "def name(firstname,lastname):\n",
        "  print(\"Hi your name is\",firstname)"
      ],
      "metadata": {
        "id": "UtE-vmmSVJg1"
      },
      "execution_count": 40,
      "outputs": []
    },
    {
      "cell_type": "code",
      "source": [
        "  name(\"Jaya\",\"Kumar\")"
      ],
      "metadata": {
        "colab": {
          "base_uri": "https://localhost:8080/"
        },
        "id": "jKAdkhVTVv9U",
        "outputId": "b7d109a8-dc4c-4647-8d3a-671915d223dd"
      },
      "execution_count": 41,
      "outputs": [
        {
          "output_type": "stream",
          "name": "stdout",
          "text": [
            "Hi your name is Jaya\n"
          ]
        }
      ]
    },
    {
      "cell_type": "code",
      "source": [
        "# Default arguments\n",
        "\n",
        "def greet(name,message=\"Hi how are you?\"):\n",
        "  print(name,message)"
      ],
      "metadata": {
        "id": "f0sA5yEOWAFl"
      },
      "execution_count": 21,
      "outputs": []
    },
    {
      "cell_type": "code",
      "source": [
        "greet('Aashutosh','Good evening')"
      ],
      "metadata": {
        "colab": {
          "base_uri": "https://localhost:8080/"
        },
        "id": "2YSOeKWXWWrO",
        "outputId": "1ed4195b-e8f7-4ee0-d3e7-37fe7b9d88f3"
      },
      "execution_count": 22,
      "outputs": [
        {
          "output_type": "stream",
          "name": "stdout",
          "text": [
            "Aashutosh Good evening\n"
          ]
        }
      ]
    },
    {
      "cell_type": "code",
      "source": [
        "greet('Meera',)"
      ],
      "metadata": {
        "colab": {
          "base_uri": "https://localhost:8080/"
        },
        "id": "jyQX-C_zWn6x",
        "outputId": "bc53b35f-1c30-4852-db57-3787dac491c1"
      },
      "execution_count": 25,
      "outputs": [
        {
          "output_type": "stream",
          "name": "stdout",
          "text": [
            "Meera Hi how are you?\n"
          ]
        }
      ]
    },
    {
      "cell_type": "code",
      "source": [
        "greet('Mukesh',)"
      ],
      "metadata": {
        "colab": {
          "base_uri": "https://localhost:8080/"
        },
        "id": "A3F8R6kDXBBA",
        "outputId": "0ff84b3b-d6cb-4635-f0c5-d7e846c1fbac"
      },
      "execution_count": 26,
      "outputs": [
        {
          "output_type": "stream",
          "name": "stdout",
          "text": [
            "Mukesh Hi how are you?\n"
          ]
        }
      ]
    },
    {
      "cell_type": "markdown",
      "source": [
        "Create a function which takes name and salary as input and incase the salary is not provided , use default salary as 25000.Display the name and salary of the indiviual."
      ],
      "metadata": {
        "id": "GPXsoV3nXJrb"
      }
    },
    {
      "cell_type": "code",
      "source": [
        "def data(name,salary=25000):\n",
        "  print(name,salary)"
      ],
      "metadata": {
        "id": "afH8LpzdXHRN"
      },
      "execution_count": 27,
      "outputs": []
    },
    {
      "cell_type": "code",
      "source": [
        "data('Mukesh',40000)"
      ],
      "metadata": {
        "colab": {
          "base_uri": "https://localhost:8080/"
        },
        "id": "U1sg2N1dYSdE",
        "outputId": "b8c01ac0-9fe9-4deb-ef58-06668ac9d8af"
      },
      "execution_count": 28,
      "outputs": [
        {
          "output_type": "stream",
          "name": "stdout",
          "text": [
            "Mukesh 40000\n"
          ]
        }
      ]
    },
    {
      "cell_type": "code",
      "source": [
        "data('Mukesh', )"
      ],
      "metadata": {
        "colab": {
          "base_uri": "https://localhost:8080/"
        },
        "id": "UWJu1W2SYZBt",
        "outputId": "cb1778fc-0e09-4871-8a85-48d69be54ce4"
      },
      "execution_count": 29,
      "outputs": [
        {
          "output_type": "stream",
          "name": "stdout",
          "text": [
            "Mukesh 25000\n"
          ]
        }
      ]
    },
    {
      "cell_type": "code",
      "source": [
        "#Keyword Argument\n",
        "\n",
        "def greet(name,age,message):\n",
        "  print(message,name,\"your age is\",age)"
      ],
      "metadata": {
        "id": "Ihm9cq_5YilH"
      },
      "execution_count": 30,
      "outputs": []
    },
    {
      "cell_type": "code",
      "source": [
        "greet(name='Ravi',age=99,message=\"Good evening\")"
      ],
      "metadata": {
        "colab": {
          "base_uri": "https://localhost:8080/"
        },
        "id": "svu8pRYjZAhv",
        "outputId": "bd5d2e44-3e83-4534-e662-5c41d1f8b31d"
      },
      "execution_count": 31,
      "outputs": [
        {
          "output_type": "stream",
          "name": "stdout",
          "text": [
            "Good evening Ravi your age is 99\n"
          ]
        }
      ]
    },
    {
      "cell_type": "code",
      "source": [
        "greet(age=99,message=\"Good evening\",name='Aashutosh')"
      ],
      "metadata": {
        "colab": {
          "base_uri": "https://localhost:8080/"
        },
        "id": "vcIkhAo0ZRfY",
        "outputId": "76a59d86-9914-4f0b-aa7e-dc4e84b3ef71"
      },
      "execution_count": 32,
      "outputs": [
        {
          "output_type": "stream",
          "name": "stdout",
          "text": [
            "Good evening Aashutosh your age is 99\n"
          ]
        }
      ]
    },
    {
      "cell_type": "code",
      "source": [
        "greet(message=\"How are you?\",name='Meera',age=80)"
      ],
      "metadata": {
        "colab": {
          "base_uri": "https://localhost:8080/"
        },
        "id": "6t1t6HZjZoAr",
        "outputId": "24420c18-72cb-4c46-dbe8-c05ecba717c5"
      },
      "execution_count": 33,
      "outputs": [
        {
          "output_type": "stream",
          "name": "stdout",
          "text": [
            "How are you? Meera your age is 80\n"
          ]
        }
      ]
    },
    {
      "cell_type": "code",
      "source": [
        "#arbitary arguments: *args\n",
        "\n",
        "def add(*args):\n",
        "  print(type(args))\n",
        "  print(args)\n",
        "\n",
        "  sum=0\n",
        "  for num in args:\n",
        "    sum=sum+num\n",
        "  return sum"
      ],
      "metadata": {
        "id": "9cslTJxoZ27M"
      },
      "execution_count": 44,
      "outputs": []
    },
    {
      "cell_type": "code",
      "source": [
        "add(3,4)"
      ],
      "metadata": {
        "colab": {
          "base_uri": "https://localhost:8080/"
        },
        "id": "j7Hp9OTYajDf",
        "outputId": "dd91c8a9-df3e-45a6-9606-a497fbfb2582"
      },
      "execution_count": 45,
      "outputs": [
        {
          "output_type": "stream",
          "name": "stdout",
          "text": [
            "<class 'tuple'>\n",
            "(3, 4)\n"
          ]
        },
        {
          "output_type": "execute_result",
          "data": {
            "text/plain": [
              "7"
            ]
          },
          "metadata": {},
          "execution_count": 45
        }
      ]
    },
    {
      "cell_type": "code",
      "source": [
        "add(3,8,9,-3,-5,12)"
      ],
      "metadata": {
        "colab": {
          "base_uri": "https://localhost:8080/"
        },
        "id": "_8hv4ZiCaoHc",
        "outputId": "8ff213ce-b294-4c85-8d66-40a3cf8d34d5"
      },
      "execution_count": 46,
      "outputs": [
        {
          "output_type": "stream",
          "name": "stdout",
          "text": [
            "<class 'tuple'>\n",
            "(3, 8, 9, -3, -5, 12)\n"
          ]
        },
        {
          "output_type": "execute_result",
          "data": {
            "text/plain": [
              "24"
            ]
          },
          "metadata": {},
          "execution_count": 46
        }
      ]
    },
    {
      "cell_type": "code",
      "source": [
        "def function(a,b,*args):\n",
        "  print(a)\n",
        "  print(b)\n",
        "  print(args)"
      ],
      "metadata": {
        "id": "1GEkZFszbGJg"
      },
      "execution_count": 48,
      "outputs": []
    },
    {
      "cell_type": "code",
      "source": [
        "function(5,7,568945)"
      ],
      "metadata": {
        "colab": {
          "base_uri": "https://localhost:8080/"
        },
        "id": "MkW-pnSDbY-0",
        "outputId": "ac648a6d-4b8a-4eea-c6ea-6d137cd21b0a"
      },
      "execution_count": 49,
      "outputs": [
        {
          "output_type": "stream",
          "name": "stdout",
          "text": [
            "5\n",
            "7\n",
            "(568945,)\n"
          ]
        }
      ]
    },
    {
      "cell_type": "code",
      "source": [
        "function(5,7,5,6,8,9,4,5)"
      ],
      "metadata": {
        "colab": {
          "base_uri": "https://localhost:8080/"
        },
        "id": "bP2TLU8CekDl",
        "outputId": "0cd504a8-13f0-4f53-ec8d-553d3408c2cf"
      },
      "execution_count": 50,
      "outputs": [
        {
          "output_type": "stream",
          "name": "stdout",
          "text": [
            "5\n",
            "7\n",
            "(5, 6, 8, 9, 4, 5)\n"
          ]
        }
      ]
    },
    {
      "cell_type": "code",
      "source": [
        "#Arbitory Keyword arguments: **kwargs\n",
        "\n",
        "def display(**kwargs):\n",
        "  print(type(kwargs))\n",
        "  print(kwargs)\n",
        "\n",
        "  for key,value in kwargs.items():\n",
        "    print(key,\"--->\",value)"
      ],
      "metadata": {
        "id": "W1r3H9rfeq7J"
      },
      "execution_count": 54,
      "outputs": []
    },
    {
      "cell_type": "code",
      "source": [
        "display(name='Aashutosh',age=99,city='Mumbai')"
      ],
      "metadata": {
        "colab": {
          "base_uri": "https://localhost:8080/"
        },
        "id": "7Ze_m_OdfUtl",
        "outputId": "ad9c6b84-4b3a-4149-ba30-75e9ae52664c"
      },
      "execution_count": 55,
      "outputs": [
        {
          "output_type": "stream",
          "name": "stdout",
          "text": [
            "<class 'dict'>\n",
            "{'name': 'Aashutosh', 'age': 99, 'city': 'Mumbai'}\n",
            "name ---> Aashutosh\n",
            "age ---> 99\n",
            "city ---> Mumbai\n"
          ]
        }
      ]
    },
    {
      "cell_type": "code",
      "source": [],
      "metadata": {
        "id": "0AJDTT9_fkPW"
      },
      "execution_count": null,
      "outputs": []
    }
  ]
}