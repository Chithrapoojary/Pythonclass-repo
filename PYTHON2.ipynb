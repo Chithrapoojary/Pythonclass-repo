{
  "nbformat": 4,
  "nbformat_minor": 0,
  "metadata": {
    "colab": {
      "provenance": []
    },
    "kernelspec": {
      "name": "python3",
      "display_name": "Python 3"
    },
    "language_info": {
      "name": "python"
    }
  },
  "cells": [
    {
      "cell_type": "code",
      "execution_count": 2,
      "metadata": {
        "id": "galuB2uCeRAS"
      },
      "outputs": [],
      "source": []
    },
    {
      "cell_type": "markdown",
      "source": [
        "Built in Functions with respect to strings and lists And tuples"
      ],
      "metadata": {
        "id": "PLHRNWvqeV_t"
      }
    },
    {
      "cell_type": "code",
      "source": [
        "a='aashutosh'"
      ],
      "metadata": {
        "id": "ke82lqtrec4C"
      },
      "execution_count": 3,
      "outputs": []
    },
    {
      "cell_type": "code",
      "source": [
        "print(a.upper())"
      ],
      "metadata": {
        "colab": {
          "base_uri": "https://localhost:8080/"
        },
        "id": "fkO7BpBiegpx",
        "outputId": "609c59bb-449a-4020-d69c-78a8e271b0c5"
      },
      "execution_count": 4,
      "outputs": [
        {
          "output_type": "stream",
          "name": "stdout",
          "text": [
            "AASHUTOSH\n"
          ]
        }
      ]
    },
    {
      "cell_type": "code",
      "source": [
        "b=a.upper()\n",
        "print(b)"
      ],
      "metadata": {
        "colab": {
          "base_uri": "https://localhost:8080/"
        },
        "id": "O_XQL4M6ejWX",
        "outputId": "c540c81d-528c-4ed0-e378-0c30ac6aed74"
      },
      "execution_count": 5,
      "outputs": [
        {
          "output_type": "stream",
          "name": "stdout",
          "text": [
            "AASHUTOSH\n"
          ]
        }
      ]
    },
    {
      "cell_type": "code",
      "source": [
        "print(b.lower())"
      ],
      "metadata": {
        "colab": {
          "base_uri": "https://localhost:8080/"
        },
        "id": "q12C7-ldesSM",
        "outputId": "f5d4d336-b32c-4566-dcb5-a6ffeb8c4a78"
      },
      "execution_count": 6,
      "outputs": [
        {
          "output_type": "stream",
          "name": "stdout",
          "text": [
            "aashutosh\n"
          ]
        }
      ]
    },
    {
      "cell_type": "code",
      "source": [
        "name='aAshutosh'\n",
        "print(name.capitalize())"
      ],
      "metadata": {
        "colab": {
          "base_uri": "https://localhost:8080/"
        },
        "id": "pp8nlUOde1tY",
        "outputId": "6d4ffce8-96e8-4099-8fd5-4a8c7b11e73e"
      },
      "execution_count": 7,
      "outputs": [
        {
          "output_type": "stream",
          "name": "stdout",
          "text": [
            "Aashutosh\n"
          ]
        }
      ]
    },
    {
      "cell_type": "code",
      "source": [
        "print(len(name))"
      ],
      "metadata": {
        "colab": {
          "base_uri": "https://localhost:8080/"
        },
        "id": "g47FF4G3ewtX",
        "outputId": "c0c54622-88ca-4400-b01b-4e8547b5ad75"
      },
      "execution_count": 8,
      "outputs": [
        {
          "output_type": "stream",
          "name": "stdout",
          "text": [
            "9\n"
          ]
        }
      ]
    },
    {
      "cell_type": "code",
      "source": [
        "print(name.count('s'))"
      ],
      "metadata": {
        "colab": {
          "base_uri": "https://localhost:8080/"
        },
        "id": "nYOFGxi6ezg5",
        "outputId": "97283178-8ae6-4d84-ed48-da0a185124eb"
      },
      "execution_count": 9,
      "outputs": [
        {
          "output_type": "stream",
          "name": "stdout",
          "text": [
            "2\n"
          ]
        }
      ]
    },
    {
      "cell_type": "code",
      "source": [
        "statement='Hello I am doing good,I am going to Bangalore next Weekend, I am going to stay for 8 weeks'\n",
        "print(statement.replace('I am','We are'))"
      ],
      "metadata": {
        "colab": {
          "base_uri": "https://localhost:8080/"
        },
        "id": "ei-5qDu8fRLF",
        "outputId": "294d9690-f507-4386-a1fb-ec9a6464149d"
      },
      "execution_count": 10,
      "outputs": [
        {
          "output_type": "stream",
          "name": "stdout",
          "text": [
            "Hello We are doing good,We are going to Bangalore next Weekend, We are going to stay for 8 weeks\n"
          ]
        }
      ]
    },
    {
      "cell_type": "code",
      "source": [
        "print(statement.replace('I am','We are',1))"
      ],
      "metadata": {
        "colab": {
          "base_uri": "https://localhost:8080/"
        },
        "id": "okhjHH_LfvlU",
        "outputId": "0a759665-ef9b-4848-e56f-80b244f9028e"
      },
      "execution_count": 11,
      "outputs": [
        {
          "output_type": "stream",
          "name": "stdout",
          "text": [
            "Hello We are doing good,I am going to Bangalore next Weekend, I am going to stay for 8 weeks\n"
          ]
        }
      ]
    },
    {
      "cell_type": "code",
      "source": [
        "print(statement.count('I'))"
      ],
      "metadata": {
        "colab": {
          "base_uri": "https://localhost:8080/"
        },
        "id": "_5f6siSDf9W8",
        "outputId": "3510c1b6-2b64-406b-c1f7-17bba03f5c7a"
      },
      "execution_count": 12,
      "outputs": [
        {
          "output_type": "stream",
          "name": "stdout",
          "text": [
            "3\n"
          ]
        }
      ]
    },
    {
      "cell_type": "code",
      "source": [
        "print(statement.count('i'))"
      ],
      "metadata": {
        "colab": {
          "base_uri": "https://localhost:8080/"
        },
        "id": "lZ69L5UCgIw7",
        "outputId": "4c43b1b6-b574-4ef1-8b70-6d1ab6198ab7"
      },
      "execution_count": 13,
      "outputs": [
        {
          "output_type": "stream",
          "name": "stdout",
          "text": [
            "3\n"
          ]
        }
      ]
    },
    {
      "cell_type": "code",
      "source": [
        "print(len(statement))  #include spaces"
      ],
      "metadata": {
        "colab": {
          "base_uri": "https://localhost:8080/"
        },
        "id": "2ngNVvPwgQ9o",
        "outputId": "e1dd4478-3c49-46e9-d770-b2ab00f0e1f2"
      },
      "execution_count": 14,
      "outputs": [
        {
          "output_type": "stream",
          "name": "stdout",
          "text": [
            "90\n"
          ]
        }
      ]
    },
    {
      "cell_type": "code",
      "source": [
        "my_list=['Artificial Intelligence','Machine Learning','Python','NLP']"
      ],
      "metadata": {
        "id": "hUwscqogggHn"
      },
      "execution_count": 15,
      "outputs": []
    },
    {
      "cell_type": "code",
      "source": [
        "my_list.append('computer vision')\n",
        "print(my_list)"
      ],
      "metadata": {
        "colab": {
          "base_uri": "https://localhost:8080/"
        },
        "id": "Ory7rrVOg3Ex",
        "outputId": "f7fd76c0-b1c9-4bbc-e24f-648fa6adfc19"
      },
      "execution_count": 16,
      "outputs": [
        {
          "output_type": "stream",
          "name": "stdout",
          "text": [
            "['Artificial Intelligence', 'Machine Learning', 'Python', 'NLP', 'computer vision']\n"
          ]
        }
      ]
    },
    {
      "cell_type": "code",
      "source": [
        "my_list.insert(2,'computer vision')\n",
        "print(my_list)"
      ],
      "metadata": {
        "colab": {
          "base_uri": "https://localhost:8080/"
        },
        "id": "uHCZFAk2g9kR",
        "outputId": "73c4318c-8201-45db-db0c-38213c7074e7"
      },
      "execution_count": 17,
      "outputs": [
        {
          "output_type": "stream",
          "name": "stdout",
          "text": [
            "['Artificial Intelligence', 'Machine Learning', 'computer vision', 'Python', 'NLP', 'computer vision']\n"
          ]
        }
      ]
    },
    {
      "cell_type": "code",
      "source": [
        "my_list.insert(0,'Data Science')\n",
        "print(my_list)"
      ],
      "metadata": {
        "colab": {
          "base_uri": "https://localhost:8080/"
        },
        "id": "zaWQOxGqh0Bg",
        "outputId": "e7ed9f9c-6f8c-4fa9-ddba-94acf1a150ed"
      },
      "execution_count": 18,
      "outputs": [
        {
          "output_type": "stream",
          "name": "stdout",
          "text": [
            "['Data Science', 'Artificial Intelligence', 'Machine Learning', 'computer vision', 'Python', 'NLP', 'computer vision']\n"
          ]
        }
      ]
    },
    {
      "cell_type": "code",
      "source": [
        "my_list.remove('Data Science')\n",
        "print(my_list)"
      ],
      "metadata": {
        "colab": {
          "base_uri": "https://localhost:8080/"
        },
        "id": "Q_M653gpiBUf",
        "outputId": "699b564e-402a-4d0e-938e-f92d7b44317b"
      },
      "execution_count": 19,
      "outputs": [
        {
          "output_type": "stream",
          "name": "stdout",
          "text": [
            "['Artificial Intelligence', 'Machine Learning', 'computer vision', 'Python', 'NLP', 'computer vision']\n"
          ]
        }
      ]
    },
    {
      "cell_type": "code",
      "source": [
        "my_list.pop()    #removes last element"
      ],
      "metadata": {
        "id": "uwEidjoPiwAC"
      },
      "execution_count": null,
      "outputs": []
    },
    {
      "cell_type": "code",
      "source": [
        "print(my_list)"
      ],
      "metadata": {
        "id": "eloM1XvAlEzt"
      },
      "execution_count": null,
      "outputs": []
    },
    {
      "cell_type": "code",
      "source": [
        "my_list.pop(2)"
      ],
      "metadata": {
        "id": "CjwCldLPlM3W"
      },
      "execution_count": null,
      "outputs": []
    },
    {
      "cell_type": "code",
      "source": [
        "print(my_list)"
      ],
      "metadata": {
        "id": "tWX_G2wBleOB"
      },
      "execution_count": null,
      "outputs": []
    },
    {
      "cell_type": "code",
      "source": [
        "my_list.pop()"
      ],
      "metadata": {
        "id": "bZfuC-odli2H"
      },
      "execution_count": null,
      "outputs": []
    },
    {
      "cell_type": "code",
      "source": [
        "print(my_list)"
      ],
      "metadata": {
        "id": "SBQvnIz8lpmi"
      },
      "execution_count": null,
      "outputs": []
    },
    {
      "cell_type": "code",
      "source": [
        "my_list.pop(0)"
      ],
      "metadata": {
        "id": "sbroZSXllshe"
      },
      "execution_count": null,
      "outputs": []
    },
    {
      "cell_type": "code",
      "source": [
        "print(my_list)"
      ],
      "metadata": {
        "id": "L1P3YBaBlzQY"
      },
      "execution_count": null,
      "outputs": []
    },
    {
      "cell_type": "code",
      "source": [
        "my_list.remove('computer vision')\n",
        "print(my_list)"
      ],
      "metadata": {
        "id": "W8XkYSYOl2K5"
      },
      "execution_count": null,
      "outputs": []
    },
    {
      "cell_type": "code",
      "source": [
        "my_list.extend(['apple',23,'banana','mango'])\n",
        "print(my_list)"
      ],
      "metadata": {
        "id": "sq7FDCZ1mACg"
      },
      "execution_count": null,
      "outputs": []
    },
    {
      "cell_type": "code",
      "source": [
        "print(len(my_list))"
      ],
      "metadata": {
        "id": "k8xC95itnIdV"
      },
      "execution_count": null,
      "outputs": []
    },
    {
      "cell_type": "code",
      "source": [
        "new_list=[2,3,4,5,9,8,5,3,2,5,7,2,9]"
      ],
      "metadata": {
        "id": "bWHWddNvnMk3"
      },
      "execution_count": null,
      "outputs": []
    },
    {
      "cell_type": "code",
      "source": [
        "print(max(new_list))"
      ],
      "metadata": {
        "id": "pJ86c_BAVtCQ"
      },
      "execution_count": null,
      "outputs": []
    },
    {
      "cell_type": "code",
      "source": [
        "print(min(new_list))"
      ],
      "metadata": {
        "id": "3dlDLhgoVv7r"
      },
      "execution_count": null,
      "outputs": []
    },
    {
      "cell_type": "code",
      "source": [
        "print(sum(new_list))"
      ],
      "metadata": {
        "id": "twCtbNxMVzZX"
      },
      "execution_count": null,
      "outputs": []
    },
    {
      "cell_type": "code",
      "source": [
        "print(len(new_list))"
      ],
      "metadata": {
        "id": "h_LmIyaRV3QF"
      },
      "execution_count": null,
      "outputs": []
    },
    {
      "cell_type": "code",
      "source": [
        "print(new_list.count(2))"
      ],
      "metadata": {
        "id": "wX2i07oKV7aF"
      },
      "execution_count": null,
      "outputs": []
    },
    {
      "cell_type": "code",
      "source": [
        "new_list.sort()\n",
        "print(new_list)"
      ],
      "metadata": {
        "id": "ln8uavsEWBqS"
      },
      "execution_count": null,
      "outputs": []
    },
    {
      "cell_type": "code",
      "source": [
        "new_list.sort(reverse=True)\n",
        "print(new_list)"
      ],
      "metadata": {
        "id": "QyZr86VMW8y1"
      },
      "execution_count": null,
      "outputs": []
    },
    {
      "cell_type": "markdown",
      "source": [
        "NESTED LISTS"
      ],
      "metadata": {
        "id": "JFCcmg2jc5si"
      }
    },
    {
      "cell_type": "code",
      "source": [
        "l1=[\"India\",\"USA\",['China','Apple','Mango',23,45,-8.9,-33]]"
      ],
      "metadata": {
        "id": "D6AnxLS1XLR3"
      },
      "execution_count": null,
      "outputs": []
    },
    {
      "cell_type": "code",
      "source": [
        "l1[1]"
      ],
      "metadata": {
        "id": "6Ffd2wAXeELZ"
      },
      "execution_count": null,
      "outputs": []
    },
    {
      "cell_type": "code",
      "source": [
        "l1[2][0]"
      ],
      "metadata": {
        "id": "p3PdZVvUeQol"
      },
      "execution_count": null,
      "outputs": []
    },
    {
      "cell_type": "code",
      "source": [
        "l1[2][2]"
      ],
      "metadata": {
        "id": "3Z824hrBeU-S"
      },
      "execution_count": null,
      "outputs": []
    },
    {
      "cell_type": "code",
      "source": [
        "l1[2][1:5]"
      ],
      "metadata": {
        "id": "wTw8ni8feY1P"
      },
      "execution_count": null,
      "outputs": []
    },
    {
      "cell_type": "code",
      "source": [
        "l1[2][3:6]"
      ],
      "metadata": {
        "id": "Ljx7foC_eeFt"
      },
      "execution_count": null,
      "outputs": []
    },
    {
      "cell_type": "code",
      "source": [
        "z=l1[0:2]\n",
        "print(z)"
      ],
      "metadata": {
        "id": "TVRv02m2emMf"
      },
      "execution_count": null,
      "outputs": []
    },
    {
      "cell_type": "code",
      "source": [
        "y=l1[2][0]\n",
        "print(y)"
      ],
      "metadata": {
        "id": "XcB9dgpufHBN"
      },
      "execution_count": null,
      "outputs": []
    },
    {
      "cell_type": "code",
      "source": [
        "w=list(y)\n",
        "print(w)"
      ],
      "metadata": {
        "id": "mEHyUz14fPaa"
      },
      "execution_count": null,
      "outputs": []
    },
    {
      "cell_type": "code",
      "source": [
        "print(z+w)"
      ],
      "metadata": {
        "id": "gyv4svEufWJ3"
      },
      "execution_count": null,
      "outputs": []
    },
    {
      "cell_type": "markdown",
      "source": [
        "TUPLE"
      ],
      "metadata": {
        "id": "8JdldaBifu9H"
      }
    },
    {
      "cell_type": "code",
      "source": [
        "t=('India','USA','Russia','New Delhi',25,900,-3.9,-0.8)"
      ],
      "metadata": {
        "id": "RFh47BwOfhVC"
      },
      "execution_count": null,
      "outputs": []
    },
    {
      "cell_type": "code",
      "source": [
        "print(t)"
      ],
      "metadata": {
        "id": "AydnnPKBi2xo"
      },
      "execution_count": null,
      "outputs": []
    },
    {
      "cell_type": "code",
      "source": [
        "type(t)"
      ],
      "metadata": {
        "id": "iM32kvh9i4Kr"
      },
      "execution_count": null,
      "outputs": []
    },
    {
      "cell_type": "code",
      "source": [
        "t[-2]"
      ],
      "metadata": {
        "id": "kFZZxR9Ni6X0"
      },
      "execution_count": null,
      "outputs": []
    },
    {
      "cell_type": "code",
      "source": [
        "t[2:4]"
      ],
      "metadata": {
        "id": "Wzw9ilAIi8nJ"
      },
      "execution_count": null,
      "outputs": []
    },
    {
      "cell_type": "code",
      "source": [
        "t[0:3]"
      ],
      "metadata": {
        "id": "ZDQb2RE6jADI"
      },
      "execution_count": null,
      "outputs": []
    },
    {
      "cell_type": "code",
      "source": [
        "my_tup=(2,3,4,5,6,7,9)"
      ],
      "metadata": {
        "id": "KzWPr9MAjInG"
      },
      "execution_count": null,
      "outputs": []
    },
    {
      "cell_type": "code",
      "source": [
        "sum(my_tup)"
      ],
      "metadata": {
        "id": "vgGegiMbjO9y"
      },
      "execution_count": null,
      "outputs": []
    },
    {
      "cell_type": "code",
      "source": [
        "max(my_tup)"
      ],
      "metadata": {
        "id": "WfZ__QvAjScS"
      },
      "execution_count": null,
      "outputs": []
    },
    {
      "cell_type": "code",
      "source": [
        "min(my_tup)"
      ],
      "metadata": {
        "id": "5pj1Rn4BjVG5"
      },
      "execution_count": null,
      "outputs": []
    },
    {
      "cell_type": "code",
      "source": [
        "len(my_tup)"
      ],
      "metadata": {
        "id": "0FHzZfchjYMe"
      },
      "execution_count": null,
      "outputs": []
    },
    {
      "cell_type": "code",
      "source": [],
      "metadata": {
        "id": "AcNyeHQIjbOR"
      },
      "execution_count": null,
      "outputs": []
    }
  ]
}