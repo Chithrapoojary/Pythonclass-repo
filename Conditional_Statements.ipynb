{
  "nbformat": 4,
  "nbformat_minor": 0,
  "metadata": {
    "colab": {
      "provenance": []
    },
    "kernelspec": {
      "name": "python3",
      "display_name": "Python 3"
    },
    "language_info": {
      "name": "python"
    }
  },
  "cells": [
    {
      "cell_type": "markdown",
      "source": [
        "## ***# CONDITIONAL STATEMENTS***"
      ],
      "metadata": {
        "id": "96duGH-Sbvnj"
      }
    },
    {
      "cell_type": "markdown",
      "source": [
        "Take a number as input from the user and check if the no is greater than 15 or not"
      ],
      "metadata": {
        "id": "JjsjVdv0ZsVY"
      }
    },
    {
      "cell_type": "code",
      "source": [
        "num=int(input( \"Enter a number\"))\n",
        "\n",
        "if num>15:\n",
        "  print (\"Num is greater than 15\")\n",
        "\n",
        "else:\n",
        "  print(\"Num is less than 15\")"
      ],
      "metadata": {
        "colab": {
          "base_uri": "https://localhost:8080/"
        },
        "id": "Db5VEZQ_Z4Uk",
        "outputId": "9a7f52de-007d-489e-ad77-b68c0d5a2c8b"
      },
      "execution_count": null,
      "outputs": [
        {
          "output_type": "stream",
          "name": "stdout",
          "text": [
            "Enter a number10\n",
            "Num is less than 15\n"
          ]
        }
      ]
    },
    {
      "cell_type": "markdown",
      "source": [
        "Take two no's 'x' and 'y' as input from the user and check which no is greater"
      ],
      "metadata": {
        "id": "q821FMIXaiDP"
      }
    },
    {
      "cell_type": "code",
      "source": [
        "x= int(input(\"Enter a number\"))\n",
        "y=int(input(\"Enter a number\"))\n",
        "\n",
        "if x>y:\n",
        "  print(\"x is greater than y\")\n",
        "\n",
        "elif x==y:\n",
        "  print(\" x is equals to y\")\n",
        "\n",
        "else:\n",
        "  print(\"x is less than y\")\n"
      ],
      "metadata": {
        "colab": {
          "base_uri": "https://localhost:8080/"
        },
        "id": "KYnhJhhaauoj",
        "outputId": "15c5b40b-422e-4621-a3cf-9bd7267cb94d"
      },
      "execution_count": null,
      "outputs": [
        {
          "output_type": "stream",
          "name": "stdout",
          "text": [
            "Enter a number5\n",
            "Enter a number10\n",
            "x is less than y\n"
          ]
        }
      ]
    },
    {
      "cell_type": "markdown",
      "source": [
        "Take marks as input from the user and check if the marks is more than 90 or not"
      ],
      "metadata": {
        "id": "HW3zRFlabjXS"
      }
    },
    {
      "cell_type": "code",
      "source": [
        "marks= int(input(\"Enter your marks\"))\n",
        "\n",
        "if marks>90:\n",
        "  print(\"Obtained marks is more than 90\")"
      ],
      "metadata": {
        "colab": {
          "base_uri": "https://localhost:8080/"
        },
        "id": "opJBLaWdcLy0",
        "outputId": "f58f1630-60ae-4002-82ac-9da837bcb2dc"
      },
      "execution_count": null,
      "outputs": [
        {
          "output_type": "stream",
          "name": "stdout",
          "text": [
            "Enter your marks91\n",
            "Obtained marks is more than 90\n"
          ]
        }
      ]
    },
    {
      "cell_type": "markdown",
      "source": [
        "Take age of a candidate as input from the user and check if the candidate is eligible for voting or not(voting age =18 years)"
      ],
      "metadata": {
        "id": "3KDDkp4vcrFo"
      }
    },
    {
      "cell_type": "code",
      "source": [
        "age=int(input(\"Enter your age\"))\n",
        "\n",
        "if age>18:\n",
        "  print(\"you are eligible for voting\")\n",
        "\n",
        "else:\n",
        "  print(\"you are not eligible for voting\")"
      ],
      "metadata": {
        "colab": {
          "base_uri": "https://localhost:8080/"
        },
        "id": "ffKKC4MZc-eV",
        "outputId": "2d208586-a295-4185-c54a-7499c3715f88"
      },
      "execution_count": null,
      "outputs": [
        {
          "output_type": "stream",
          "name": "stdout",
          "text": [
            "Enter your age15\n",
            "you are not eligible for voting\n"
          ]
        }
      ]
    },
    {
      "cell_type": "markdown",
      "source": [
        "\n",
        "Take marks as input from the user and give grades to students in the following format\n",
        "\n",
        "Marks more than or equals to 90- A\n",
        "\n",
        "Marks more than or equals to 80- B\n",
        "\n",
        "Marks more than or equals to 70- C\n",
        "\n",
        "Marks more than or equals to 60- D\n",
        "\n",
        "Marks less than  60- STUDY HARD\n",
        "\n",
        "\n"
      ],
      "metadata": {
        "id": "YQcfZIEEhPvn"
      }
    },
    {
      "cell_type": "code",
      "source": [
        "marks=int(input(\" Enter your marks\"))\n",
        "\n",
        "if marks>=90:\n",
        "  print(\"A GRADE\")\n",
        "\n",
        "elif marks>=80:\n",
        "  print(\"B GRADE\")\n",
        "\n",
        "elif marks>=70:\n",
        "  print(\"C GRADE\")\n",
        "\n",
        "elif marks>=60:\n",
        "  print(\"D GRADE\")\n",
        "\n",
        "else:\n",
        "  print(\"STUDY HARD\")"
      ],
      "metadata": {
        "colab": {
          "base_uri": "https://localhost:8080/"
        },
        "id": "Yao77MGZdbuz",
        "outputId": "ecf1f827-015f-4e33-8ba1-4ed459ff9e69"
      },
      "execution_count": null,
      "outputs": [
        {
          "output_type": "stream",
          "name": "stdout",
          "text": [
            " Enter your marks85\n",
            "B GRADE\n"
          ]
        }
      ]
    },
    {
      "cell_type": "markdown",
      "source": [
        "In a fare, the entry fee for the children less than 4 years of age is free, the entry of children between 4 to 16 years is 100 Rs and the entry of people above 16 yrs is 175 RS.\n",
        " Take age as input from the user and calculate the entry fee based on age provided"
      ],
      "metadata": {
        "id": "t9xduNqXj4mm"
      }
    },
    {
      "cell_type": "code",
      "source": [
        "age=int(input(\"Enter your age\"))\n",
        "\n",
        "if age<=4:\n",
        "  print(\"Free of cost entry\")\n",
        "\n",
        "elif 16>=age>=4:\n",
        "  print(\"Entry fees is 100 RS\")\n",
        "\n",
        "else:\n",
        "  print(\"Entry fee is 175 RS\")"
      ],
      "metadata": {
        "colab": {
          "base_uri": "https://localhost:8080/"
        },
        "id": "hKVYE6mhiLaW",
        "outputId": "fb2cbc15-0824-4abb-ce89-10a107e39ad7"
      },
      "execution_count": null,
      "outputs": [
        {
          "output_type": "stream",
          "name": "stdout",
          "text": [
            "Enter your age18\n",
            "Entry fee is 175 RS\n"
          ]
        }
      ]
    },
    {
      "cell_type": "markdown",
      "source": [
        "## Take a no as input from the user and check if the number is even or odd"
      ],
      "metadata": {
        "id": "SkWLrJLKuVJB"
      }
    },
    {
      "cell_type": "code",
      "source": [
        "num=int(input(\"Enter your number\"))\n",
        "\n",
        "if num%2==0:\n",
        "  print(\"Num is even\")\n",
        "\n",
        "else:\n",
        "  print(\"Num is odd\")"
      ],
      "metadata": {
        "colab": {
          "base_uri": "https://localhost:8080/"
        },
        "id": "XCvyTfT9uJ8c",
        "outputId": "accd1dde-5813-4057-c123-be08ea987b59"
      },
      "execution_count": null,
      "outputs": [
        {
          "output_type": "stream",
          "name": "stdout",
          "text": [
            "Enter your number14\n",
            "Num is even\n"
          ]
        }
      ]
    },
    {
      "cell_type": "markdown",
      "source": [
        "## Take a no as input from the user and check if the number is even or odd"
      ],
      "metadata": {
        "id": "gybx3WzWvUmC"
      }
    },
    {
      "cell_type": "code",
      "source": [
        "num=int(input(\"Enter your num\"))\n",
        "\n",
        "if num%2!=0:\n",
        "  print(\"Num is odd\")\n",
        "\n",
        "else:\n",
        "  print(\"Num is even\")"
      ],
      "metadata": {
        "colab": {
          "base_uri": "https://localhost:8080/"
        },
        "id": "KiVYWm_rukJz",
        "outputId": "bba187c3-73eb-4701-de53-b66d7e7efa0e"
      },
      "execution_count": null,
      "outputs": [
        {
          "output_type": "stream",
          "name": "stdout",
          "text": [
            "Enter your num15\n",
            "Num is odd\n"
          ]
        }
      ]
    },
    {
      "cell_type": "code",
      "source": [],
      "metadata": {
        "id": "O8mV5Oylvt97"
      },
      "execution_count": null,
      "outputs": []
    },
    {
      "cell_type": "markdown",
      "source": [
        "The owner of a company decides to give a bonus of 5% to employees who have been working in this company for the past 5 yrs or more.Take current salary and years of experience with the current organization as input from the user and display the increment salary (if any)"
      ],
      "metadata": {
        "id": "wJFdKFpfx9ll"
      }
    },
    {
      "cell_type": "code",
      "source": [
        "current_salary=int(input(\"Enter your current salary\"))\n",
        "Exp=int(input(\"Enter your yrs of Experience\"))\n",
        "\n",
        "if Exp>=5:\n",
        "  print(\"Your increment salary is\", current_salary+0.05*current_salary)\n",
        "\n",
        "else :\n",
        "  print(\"No increment in the salary ,Your increment salary is\", current_salary)"
      ],
      "metadata": {
        "colab": {
          "base_uri": "https://localhost:8080/"
        },
        "id": "vb80F4Wd0h9u",
        "outputId": "f79994cd-9803-4f12-eddb-7d4df45e3013"
      },
      "execution_count": null,
      "outputs": [
        {
          "output_type": "stream",
          "name": "stdout",
          "text": [
            "Enter your current salary18000\n",
            "Enter your yrs of Experience8\n",
            "Your increment salary is 18900.0\n"
          ]
        }
      ]
    },
    {
      "cell_type": "markdown",
      "source": [
        "Take a no as input from the user and check if the no is greater then 10 or not .Just in case the no is greater than 20 also or not"
      ],
      "metadata": {
        "id": "KNd8x8E78WI4"
      }
    },
    {
      "cell_type": "code",
      "source": [
        "x=int(input(\"Enter a num\"))\n",
        "\n",
        "if x>10:\n",
        "\n",
        "  if x>20:\n",
        "    print(\"x is greater than 20\")\n",
        "\n",
        "  else:\n",
        "    print(\"x is greater than 10 but less than 20\")\n",
        "\n",
        "else:\n",
        "  print(\"x is less than 10\")"
      ],
      "metadata": {
        "id": "cN3VJ8dS16Pf",
        "colab": {
          "base_uri": "https://localhost:8080/"
        },
        "outputId": "c4d96372-979f-467e-bbe3-706519468305"
      },
      "execution_count": null,
      "outputs": [
        {
          "output_type": "stream",
          "name": "stdout",
          "text": [
            "Enter a num15\n",
            "x is greater than 10 but less than 20\n"
          ]
        }
      ]
    },
    {
      "cell_type": "markdown",
      "source": [
        "Take a number as input from the user and check if the number is 0 or positive or negative using nested statements"
      ],
      "metadata": {
        "id": "S6yxFEueCfe5"
      }
    },
    {
      "cell_type": "code",
      "source": [
        "x=int(input(\"Enter a number\"))\n",
        "\n",
        "if x>=0:\n",
        "  if x>0:\n",
        "    print(\" X is positive\")\n",
        "\n",
        "  else:\n",
        "    print(\"x is equals to 0\")\n",
        "\n",
        "else:\n",
        "  print(\"x is negative\")"
      ],
      "metadata": {
        "colab": {
          "base_uri": "https://localhost:8080/"
        },
        "id": "znU8dzj-CNKq",
        "outputId": "7bf0c2c5-d9b9-464f-afdd-77e8df2731e4"
      },
      "execution_count": 10,
      "outputs": [
        {
          "output_type": "stream",
          "name": "stdout",
          "text": [
            "Enter a number0\n",
            "x is equals to 0\n"
          ]
        }
      ]
    },
    {
      "cell_type": "code",
      "source": [
        "x=int(input(\"Enter a number\"))\n",
        "\n",
        "if x<0:\n",
        "  print(\"x is negative\")\n",
        "\n",
        "else:\n",
        "    if x>0:\n",
        "     print(\" x is positive\")\n",
        "\n",
        "    else:\n",
        "      print (\"x is equals to 0\")"
      ],
      "metadata": {
        "id": "8gT8IS0ZDeG1",
        "colab": {
          "base_uri": "https://localhost:8080/"
        },
        "outputId": "c29ed7cf-2578-4c98-9625-1096f3d38bb5"
      },
      "execution_count": 9,
      "outputs": [
        {
          "output_type": "stream",
          "name": "stdout",
          "text": [
            "Enter a number-1\n",
            "x is negative\n"
          ]
        }
      ]
    },
    {
      "cell_type": "code",
      "source": [],
      "metadata": {
        "id": "XsjxbISSEAPo"
      },
      "execution_count": null,
      "outputs": []
    }
  ]
}