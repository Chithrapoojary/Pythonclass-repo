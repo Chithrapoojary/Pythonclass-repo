{
  "nbformat": 4,
  "nbformat_minor": 0,
  "metadata": {
    "colab": {
      "provenance": []
    },
    "kernelspec": {
      "name": "python3",
      "display_name": "Python 3"
    },
    "language_info": {
      "name": "python"
    }
  },
  "cells": [
    {
      "cell_type": "markdown",
      "source": [
        "DICTIONARIES"
      ],
      "metadata": {
        "id": "kzt23PfI6Iyh"
      }
    },
    {
      "cell_type": "code",
      "source": [
        "Dic={'chips':50,'Icecream':250,'chocolate':300,'pens':50,'Bread':45}"
      ],
      "metadata": {
        "id": "kJknbB9K6g6m"
      },
      "execution_count": 1,
      "outputs": []
    },
    {
      "cell_type": "code",
      "source": [
        "print(Dic)"
      ],
      "metadata": {
        "colab": {
          "base_uri": "https://localhost:8080/"
        },
        "id": "_d0j4Tb-60yZ",
        "outputId": "ce6bcca5-7f8a-45f5-af54-43bbb37c68ef"
      },
      "execution_count": 3,
      "outputs": [
        {
          "output_type": "stream",
          "name": "stdout",
          "text": [
            "{'chips': 50, 'Icecream': 250, 'chocolate': 300, 'pens': 50, 'Bread': 45}\n"
          ]
        }
      ]
    },
    {
      "cell_type": "code",
      "source": [
        "type(Dic)"
      ],
      "metadata": {
        "colab": {
          "base_uri": "https://localhost:8080/"
        },
        "id": "LJbHk3hT65f4",
        "outputId": "c29cf4c5-6b3d-4e54-ae16-5dd33d6e84ba"
      },
      "execution_count": 4,
      "outputs": [
        {
          "output_type": "execute_result",
          "data": {
            "text/plain": [
              "dict"
            ]
          },
          "metadata": {},
          "execution_count": 4
        }
      ]
    },
    {
      "cell_type": "code",
      "source": [
        "Dic['chocolate']"
      ],
      "metadata": {
        "colab": {
          "base_uri": "https://localhost:8080/"
        },
        "id": "FgCWXKnA7O7y",
        "outputId": "902ad181-7efd-4556-a2ef-9894c14fcc45"
      },
      "execution_count": 6,
      "outputs": [
        {
          "output_type": "execute_result",
          "data": {
            "text/plain": [
              "300"
            ]
          },
          "metadata": {},
          "execution_count": 6
        }
      ]
    },
    {
      "cell_type": "code",
      "source": [
        "Dic['pens']"
      ],
      "metadata": {
        "colab": {
          "base_uri": "https://localhost:8080/"
        },
        "id": "yLEZlJ4c7TMQ",
        "outputId": "9bcb138a-4f9b-4e2e-a079-9a6c4724caa1"
      },
      "execution_count": 7,
      "outputs": [
        {
          "output_type": "execute_result",
          "data": {
            "text/plain": [
              "50"
            ]
          },
          "metadata": {},
          "execution_count": 7
        }
      ]
    },
    {
      "cell_type": "code",
      "source": [
        "Dic['chocolate']=250\n",
        "print(Dic)"
      ],
      "metadata": {
        "colab": {
          "base_uri": "https://localhost:8080/"
        },
        "id": "EyfgBzWf7Zmj",
        "outputId": "7ae6742c-ac1b-4bdb-9486-d5d1e32f7365"
      },
      "execution_count": 8,
      "outputs": [
        {
          "output_type": "stream",
          "name": "stdout",
          "text": [
            "{'chips': 50, 'Icecream': 250, 'chocolate': 250, 'pens': 50, 'Bread': 45}\n"
          ]
        }
      ]
    },
    {
      "cell_type": "code",
      "source": [
        "Dic.keys()"
      ],
      "metadata": {
        "colab": {
          "base_uri": "https://localhost:8080/"
        },
        "id": "tK935rLP7rwY",
        "outputId": "5d0a67c0-4145-4839-cacd-94b4a96aa6c5"
      },
      "execution_count": 10,
      "outputs": [
        {
          "output_type": "execute_result",
          "data": {
            "text/plain": [
              "dict_keys(['chips', 'Icecream', 'chocolate', 'pens', 'Bread'])"
            ]
          },
          "metadata": {},
          "execution_count": 10
        }
      ]
    },
    {
      "cell_type": "code",
      "source": [
        "Dic.values()"
      ],
      "metadata": {
        "colab": {
          "base_uri": "https://localhost:8080/"
        },
        "id": "yhyQ_IBn7vf1",
        "outputId": "44c5fd08-0538-4e5a-a13c-c1ca27f3583b"
      },
      "execution_count": 11,
      "outputs": [
        {
          "output_type": "execute_result",
          "data": {
            "text/plain": [
              "dict_values([50, 250, 250, 50, 45])"
            ]
          },
          "metadata": {},
          "execution_count": 11
        }
      ]
    },
    {
      "cell_type": "code",
      "source": [
        "Dic['Notebook']=90\n",
        "print(Dic)"
      ],
      "metadata": {
        "colab": {
          "base_uri": "https://localhost:8080/"
        },
        "id": "l0591Ok772B_",
        "outputId": "48580e19-b9bc-4143-e79d-8b1bf73e4267"
      },
      "execution_count": 12,
      "outputs": [
        {
          "output_type": "stream",
          "name": "stdout",
          "text": [
            "{'chips': 50, 'Icecream': 250, 'chocolate': 250, 'pens': 50, 'Bread': 45, 'Notebook': 90}\n"
          ]
        }
      ]
    },
    {
      "cell_type": "code",
      "source": [
        "Dic.popitem()"
      ],
      "metadata": {
        "colab": {
          "base_uri": "https://localhost:8080/"
        },
        "id": "txrirlr37_MQ",
        "outputId": "cf8ff82f-1f62-483e-8fae-a35f80623845"
      },
      "execution_count": 13,
      "outputs": [
        {
          "output_type": "execute_result",
          "data": {
            "text/plain": [
              "('Notebook', 90)"
            ]
          },
          "metadata": {},
          "execution_count": 13
        }
      ]
    },
    {
      "cell_type": "code",
      "source": [
        "Dic.clear()\n",
        "print(Dic)"
      ],
      "metadata": {
        "colab": {
          "base_uri": "https://localhost:8080/"
        },
        "id": "vm1CwzET8GVd",
        "outputId": "306a5dd1-6493-4a6a-9657-b03b59512e4e"
      },
      "execution_count": 15,
      "outputs": [
        {
          "output_type": "stream",
          "name": "stdout",
          "text": [
            "{}\n"
          ]
        }
      ]
    },
    {
      "cell_type": "code",
      "source": [],
      "metadata": {
        "id": "eVcFuuyn8J39"
      },
      "execution_count": null,
      "outputs": []
    },
    {
      "cell_type": "markdown",
      "source": [
        "a. CReate a Dictionary with following Key Value Pair\n",
        "Keys-Name,Age,Salary,City\n",
        "Values-BOB,39,35000,Newyork\n",
        "b.Add a new key value pair to your dictionary called designation and associate the value software engg\n",
        "c. Fetch the salary of BOB\n",
        "D.Modify the salary of Bob from 35000 to 55000\n",
        "e.Delete Age key value pair from the dictionary"
      ],
      "metadata": {
        "id": "bo-SI-yH9zDc"
      }
    },
    {
      "cell_type": "code",
      "source": [
        "Data={'Name':'BOB','Age':39,'Salary':35000,'City':'Newyork'}\n",
        "print(Data)"
      ],
      "metadata": {
        "colab": {
          "base_uri": "https://localhost:8080/"
        },
        "id": "vXD5q09LDuem",
        "outputId": "ea27a019-0f7e-4e7f-a578-dfa6de821147"
      },
      "execution_count": 16,
      "outputs": [
        {
          "output_type": "stream",
          "name": "stdout",
          "text": [
            "{'Name': 'BOB', 'Age': 39, 'Salary': 35000, 'City': 'Newyork'}\n"
          ]
        }
      ]
    },
    {
      "cell_type": "code",
      "source": [
        "Data ['Designation']='Software Engg'\n",
        "print(Data)"
      ],
      "metadata": {
        "colab": {
          "base_uri": "https://localhost:8080/"
        },
        "id": "Vvfs9a_FEPzN",
        "outputId": "5161e1e2-4d78-4333-d43a-47b6096cff82"
      },
      "execution_count": 19,
      "outputs": [
        {
          "output_type": "stream",
          "name": "stdout",
          "text": [
            "{'Name': 'BOB', 'Age': 39, 'Salary': 35000, 'City': 'Newyork', 'Designation': 'Software Engg'}\n"
          ]
        }
      ]
    },
    {
      "cell_type": "code",
      "source": [
        "Data['Salary']"
      ],
      "metadata": {
        "colab": {
          "base_uri": "https://localhost:8080/"
        },
        "id": "c-vdMBDeEbBa",
        "outputId": "b1af697d-da95-446d-d446-4c3c25d86c25"
      },
      "execution_count": 20,
      "outputs": [
        {
          "output_type": "execute_result",
          "data": {
            "text/plain": [
              "35000"
            ]
          },
          "metadata": {},
          "execution_count": 20
        }
      ]
    },
    {
      "cell_type": "code",
      "source": [
        "Data['salary']=55000\n",
        "print(Data)\n"
      ],
      "metadata": {
        "colab": {
          "base_uri": "https://localhost:8080/"
        },
        "id": "a51ZiBAwE5KQ",
        "outputId": "03db3a34-6cab-4049-a6fe-7ed4ce0bb774"
      },
      "execution_count": 22,
      "outputs": [
        {
          "output_type": "stream",
          "name": "stdout",
          "text": [
            "{'Name': 'BOB', 'Age': 39, 'Salary': 35000, 'City': 'Newyork', 'Designation': 'Software Engg', 'salary': 55000}\n"
          ]
        }
      ]
    },
    {
      "cell_type": "code",
      "source": [
        "del Data['Age']\n",
        "print(Data)"
      ],
      "metadata": {
        "colab": {
          "base_uri": "https://localhost:8080/"
        },
        "id": "95p-S5DpFGcy",
        "outputId": "e848fa81-a512-4ed6-cc73-b3745dce39e0"
      },
      "execution_count": 25,
      "outputs": [
        {
          "output_type": "stream",
          "name": "stdout",
          "text": [
            "{'Name': 'BOB', 'Salary': 35000, 'City': 'Newyork', 'Designation': 'Software Engg', 'salary': 55000}\n"
          ]
        }
      ]
    },
    {
      "cell_type": "code",
      "source": [],
      "metadata": {
        "id": "eDO4BnV-FVFD"
      },
      "execution_count": null,
      "outputs": []
    }
  ]
}