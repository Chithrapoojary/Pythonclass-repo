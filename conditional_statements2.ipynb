{
  "nbformat": 4,
  "nbformat_minor": 0,
  "metadata": {
    "colab": {
      "provenance": []
    },
    "kernelspec": {
      "name": "python3",
      "display_name": "Python 3"
    },
    "language_info": {
      "name": "python"
    }
  },
  "cells": [
    {
      "cell_type": "code",
      "source": [
        "num=int(input(\"Enter your number\"))  #To check the absolute value\n",
        "absvalue=0\n",
        "\n",
        "if (num<0):\n",
        "  absvalue=-num\n",
        "\n",
        "else:\n",
        "  absvalue=num\n",
        "print('Absolute num is:', absvalue)\n",
        "\n"
      ],
      "metadata": {
        "colab": {
          "base_uri": "https://localhost:8080/"
        },
        "id": "t2m1QT0EREPM",
        "outputId": "b9943372-5efe-4ba6-98ba-0c07c8409108"
      },
      "execution_count": 12,
      "outputs": [
        {
          "output_type": "stream",
          "name": "stdout",
          "text": [
            "Enter your number-25\n",
            "Absolute num is: 25\n"
          ]
        }
      ]
    },
    {
      "cell_type": "code",
      "source": [
        "# Write a program to check if a given no is divisible by 2,3,7\n",
        "\n",
        "num=int(input(\"Enter a number\"))\n",
        "\n",
        "if num%2==0:\n",
        "  print(\"The given number is divisible by 2\")\n",
        "\n",
        "else:\n",
        "  print(\"The given number is not divisible by 2\")\n",
        "\n",
        "if num%3==0:\n",
        "  print(\"The given number is divisible by 3\")\n",
        "\n",
        "else:\n",
        "  print(\"The given number is not divisible by 3\")\n",
        "\n",
        "if num%7==0:\n",
        "  print(\"The given number is divisible by 7\")\n",
        "\n",
        "else:\n",
        " print(\"The given number is not divisible by 7\")"
      ],
      "metadata": {
        "colab": {
          "base_uri": "https://localhost:8080/"
        },
        "id": "4Z4GQHgPShSs",
        "outputId": "b18df289-f3b8-4053-9077-9030aab57a68"
      },
      "execution_count": 17,
      "outputs": [
        {
          "output_type": "stream",
          "name": "stdout",
          "text": [
            "Enter a number25\n",
            "The given number is not divisible by 2\n",
            "The given number is not divisible by 3\n",
            "The given number is not divisible by 7\n"
          ]
        }
      ]
    },
    {
      "cell_type": "markdown",
      "source": [],
      "metadata": {
        "id": "4WPdhI92XWkC"
      }
    },
    {
      "cell_type": "markdown",
      "metadata": {
        "id": "w8E74p9ahSNs"
      },
      "source": [
        "Let's say we are at an amusement park and it has fare for different age groups.\n",
        "Admission for anyone under 4yrs is free\n",
        "Admission for anyone in b/w 5-18 yrs is INR 100/-, Admission for anyone above 18 yrs is INR 150/-, Can you print the ticket price based on the age of visitor."
      ]
    },
    {
      "cell_type": "code",
      "source": [
        "age=int(input(\"Enter your age\"))\n",
        "\n",
        "if age<=4:\n",
        "  print(\"Free Admission\")\n",
        "\n",
        "elif (age>4 and age<=18):\n",
        "  print(\" Admission fee is 100 rupees\")\n",
        "\n",
        "else:\n",
        "  print(\"Admission fee is 150 rupees\")"
      ],
      "metadata": {
        "colab": {
          "base_uri": "https://localhost:8080/"
        },
        "id": "VrZJgTL8VQuh",
        "outputId": "38adc123-be19-429b-e6b8-55968c5067f8"
      },
      "execution_count": 18,
      "outputs": [
        {
          "output_type": "stream",
          "name": "stdout",
          "text": [
            "Enter your age15\n",
            " Admission fee is 100 rupees\n"
          ]
        }
      ]
    },
    {
      "cell_type": "code",
      "source": [
        "#Test if a is greater than b or not just in case a is greater than c also or not\n",
        "\n",
        "a=int(input(\"Enter a value\"))\n",
        "b=int(input(\"Enter a value\"))\n",
        "c=int(input(\"enter a value\"))\n",
        "\n",
        "if a>b:\n",
        " if a>c:\n",
        "  print(\"a is greater than c \")\n",
        "\n",
        " else:\n",
        "   print(\"a is less than c but greater than b\")\n",
        "\n",
        "else:\n",
        "  print(\"a is less than b\")"
      ],
      "metadata": {
        "colab": {
          "base_uri": "https://localhost:8080/"
        },
        "id": "rbaqBGgzYCON",
        "outputId": "f764bdeb-55a3-4fe6-a806-2ea2d2ff2184"
      },
      "execution_count": 20,
      "outputs": [
        {
          "output_type": "stream",
          "name": "stdout",
          "text": [
            "Enter a value10\n",
            "Enter a value25\n",
            "enter a value35\n",
            "a is less than b\n"
          ]
        }
      ]
    },
    {
      "cell_type": "code",
      "metadata": {
        "colab": {
          "base_uri": "https://localhost:8080/"
        },
        "id": "HWqj1Sa9r3fC",
        "outputId": "f98ff51f-a535-4ecb-9947-b54f3a415a53"
      },
      "source": [
        "#Test if a is greater than b AND c is greater than a\n",
        "\n",
        "a=int(input(\"enter your value\"))\n",
        "b=int(input(\"enter your value\"))\n",
        "c=int(input(\"enter your value\"))\n",
        "\n",
        "if a>b and c>a:\n",
        "  print(\"both conditions are true\")\n",
        "\n",
        "else:\n",
        "  print(\"either one or more condition is false\")\n"
      ],
      "execution_count": 23,
      "outputs": [
        {
          "output_type": "stream",
          "name": "stdout",
          "text": [
            "enter your value10\n",
            "enter your value25\n",
            "enter your value5\n",
            "either one or more condition is false\n"
          ]
        }
      ]
    },
    {
      "cell_type": "code",
      "source": [
        "#check if a is greater than b or c is greater than a\n",
        "\n",
        "a=int(input(\"enter your value\"))\n",
        "b=int(input(\"enter your value\"))\n",
        "c=int(input(\"enter your value\"))\n",
        "\n",
        "if a>b or c>a:\n",
        "  print(\"either one or more conditions are true\")\n",
        "\n",
        "else:\n",
        "  print(\"no output\")"
      ],
      "metadata": {
        "colab": {
          "base_uri": "https://localhost:8080/"
        },
        "id": "5QljMVQabUjc",
        "outputId": "d6e8ceb7-e3ac-4f7f-c66a-005cd1da3fa4"
      },
      "execution_count": 25,
      "outputs": [
        {
          "output_type": "stream",
          "name": "stdout",
          "text": [
            "enter your value25\n",
            "enter your value25\n",
            "enter your value10\n",
            "no output\n"
          ]
        }
      ]
    },
    {
      "cell_type": "code",
      "source": [
        "#pass statement"
      ],
      "metadata": {
        "id": "7GYw2mO7ctFo"
      },
      "execution_count": 25,
      "outputs": []
    },
    {
      "cell_type": "code",
      "metadata": {
        "colab": {
          "base_uri": "https://localhost:8080/"
        },
        "id": "8AmYgssnad6I",
        "outputId": "948e1731-165d-4379-a8f0-39da815af2d9"
      },
      "source": [
        "a=int(input(\"enter your value\"))\n",
        "b=int(input(\"enter your value\"))\n",
        "\n",
        "if b>a:\n",
        "  pass #anything written after pass will not get executed\n",
        "else:\n",
        "  print(\"a greater\")"
      ],
      "execution_count": 26,
      "outputs": [
        {
          "output_type": "stream",
          "name": "stdout",
          "text": [
            "enter your value68\n",
            "enter your value55\n",
            "a greater\n"
          ]
        }
      ]
    },
    {
      "cell_type": "code",
      "source": [],
      "metadata": {
        "id": "Fqj9pPH8es03"
      },
      "execution_count": 26,
      "outputs": []
    }
  ]
}