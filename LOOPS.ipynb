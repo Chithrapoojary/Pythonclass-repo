{
  "nbformat": 4,
  "nbformat_minor": 0,
  "metadata": {
    "colab": {
      "provenance": []
    },
    "kernelspec": {
      "name": "python3",
      "display_name": "Python 3"
    },
    "language_info": {
      "name": "python"
    }
  },
  "cells": [
    {
      "cell_type": "markdown",
      "source": [
        "LOOPS"
      ],
      "metadata": {
        "id": "YL6IECdcGCEc"
      }
    },
    {
      "cell_type": "code",
      "execution_count": 1,
      "metadata": {
        "id": "tABOUdGBF93b"
      },
      "outputs": [],
      "source": [
        "#for loop"
      ]
    },
    {
      "cell_type": "markdown",
      "source": [
        "List or display the names of your friends one by one stored in the form of a list"
      ],
      "metadata": {
        "id": "yqZGR0x-Gn9C"
      }
    },
    {
      "cell_type": "code",
      "source": [
        "names=['Rashmi','Ashika','Chandrika','Pavithra','Keerthi']\n",
        "for name in names:\n",
        "  print(name)"
      ],
      "metadata": {
        "colab": {
          "base_uri": "https://localhost:8080/"
        },
        "id": "qGF2QiLxGmDJ",
        "outputId": "3cfa3007-9a10-4042-968f-59698e2df1dc"
      },
      "execution_count": 2,
      "outputs": [
        {
          "output_type": "stream",
          "name": "stdout",
          "text": [
            "Rashmi\n",
            "Ashika\n",
            "Chandrika\n",
            "Pavithra\n",
            "Keerthi\n"
          ]
        }
      ]
    },
    {
      "cell_type": "code",
      "source": [
        "names=['Rashmi','Ashika','Chandrika','Pavithra','Keerthi']\n",
        "for name in names:\n",
        "  print(name, end=' ')"
      ],
      "metadata": {
        "colab": {
          "base_uri": "https://localhost:8080/"
        },
        "id": "Ywq1nYU0HIkm",
        "outputId": "6e30bab2-5e3b-4ecb-bac6-00fa8bc93498"
      },
      "execution_count": 3,
      "outputs": [
        {
          "output_type": "stream",
          "name": "stdout",
          "text": [
            "Rashmi Ashika Chandrika Pavithra Keerthi "
          ]
        }
      ]
    },
    {
      "cell_type": "code",
      "source": [
        "num=[1,2,3,4,5,]\n",
        "for i in num:\n",
        "  print(i)"
      ],
      "metadata": {
        "colab": {
          "base_uri": "https://localhost:8080/"
        },
        "id": "DBSPajudHScS",
        "outputId": "0e0aba05-7375-4e48-f081-dbdd28ae6011"
      },
      "execution_count": 4,
      "outputs": [
        {
          "output_type": "stream",
          "name": "stdout",
          "text": [
            "1\n",
            "2\n",
            "3\n",
            "4\n",
            "5\n"
          ]
        }
      ]
    },
    {
      "cell_type": "code",
      "source": [
        "fruits=['Grapes','Mango','Orange','Apple','Banana']\n",
        "for i in fruits:\n",
        "  print(i)"
      ],
      "metadata": {
        "colab": {
          "base_uri": "https://localhost:8080/"
        },
        "id": "Ez1-omyMHnmp",
        "outputId": "a8f7fe79-7479-451a-e135-e4aec3b85ae4"
      },
      "execution_count": 5,
      "outputs": [
        {
          "output_type": "stream",
          "name": "stdout",
          "text": [
            "Grapes\n",
            "Mango\n",
            "Orange\n",
            "Apple\n",
            "Banana\n"
          ]
        }
      ]
    },
    {
      "cell_type": "markdown",
      "source": [
        "Display the first 10 natural numbers"
      ],
      "metadata": {
        "id": "3rcTxfL5IOR_"
      }
    },
    {
      "cell_type": "code",
      "source": [
        "for i in range(0,10):\n",
        "  print(i)"
      ],
      "metadata": {
        "colab": {
          "base_uri": "https://localhost:8080/"
        },
        "id": "H1uTrV4BIDNb",
        "outputId": "97dab7bc-2e7a-4b53-9342-7ad1934d462d"
      },
      "execution_count": 7,
      "outputs": [
        {
          "output_type": "stream",
          "name": "stdout",
          "text": [
            "0\n",
            "1\n",
            "2\n",
            "3\n",
            "4\n",
            "5\n",
            "6\n",
            "7\n",
            "8\n",
            "9\n"
          ]
        }
      ]
    },
    {
      "cell_type": "code",
      "source": [
        "for i in range(0,10,2):\n",
        "  print(i)"
      ],
      "metadata": {
        "colab": {
          "base_uri": "https://localhost:8080/"
        },
        "id": "FXHuWgbOIu83",
        "outputId": "2506a356-3a95-43d2-ba79-94cbcae6643c"
      },
      "execution_count": 11,
      "outputs": [
        {
          "output_type": "stream",
          "name": "stdout",
          "text": [
            "0\n",
            "2\n",
            "4\n",
            "6\n",
            "8\n"
          ]
        }
      ]
    },
    {
      "cell_type": "code",
      "source": [
        "for i in range(0,10,3):\n",
        "  print(i, end=' ')"
      ],
      "metadata": {
        "colab": {
          "base_uri": "https://localhost:8080/"
        },
        "id": "vYIDzdhXI9y7",
        "outputId": "e469b4c7-7662-4ca5-b26d-6e9f6374ef81"
      },
      "execution_count": 13,
      "outputs": [
        {
          "output_type": "stream",
          "name": "stdout",
          "text": [
            "0 3 6 9 "
          ]
        }
      ]
    },
    {
      "cell_type": "markdown",
      "source": [
        "Take a list of no's and display all the even no's from this list"
      ],
      "metadata": {
        "id": "7qo6mkERJZcQ"
      }
    },
    {
      "cell_type": "code",
      "source": [
        "my_list=[0,1,2,3,4,5,6,7,8,9,10]\n",
        "\n",
        "for i in my_list:\n",
        "  if i%2==0:\n",
        "    print(i)"
      ],
      "metadata": {
        "colab": {
          "base_uri": "https://localhost:8080/"
        },
        "id": "5zZqlOohJNj_",
        "outputId": "f7b03e52-b21a-4ade-af22-3aa04287d63e"
      },
      "execution_count": 14,
      "outputs": [
        {
          "output_type": "stream",
          "name": "stdout",
          "text": [
            "0\n",
            "2\n",
            "4\n",
            "6\n",
            "8\n",
            "10\n"
          ]
        }
      ]
    },
    {
      "cell_type": "code",
      "source": [
        "for i in my_list:\n",
        "  if i%2==0:\n",
        "    print(i, end=' ')"
      ],
      "metadata": {
        "colab": {
          "base_uri": "https://localhost:8080/"
        },
        "id": "PvgV8eGxJ6c4",
        "outputId": "2ac682bb-256e-4028-bffd-c6d34b50a045"
      },
      "execution_count": 15,
      "outputs": [
        {
          "output_type": "stream",
          "name": "stdout",
          "text": [
            "0 2 4 6 8 10 "
          ]
        }
      ]
    },
    {
      "cell_type": "markdown",
      "source": [
        "Take a list of no's and display all the odd no's from this list"
      ],
      "metadata": {
        "id": "_TsFFyJgKK-Y"
      }
    },
    {
      "cell_type": "code",
      "source": [
        "my_list=[1,2,3,6,9,15,16,17,18,19]\n",
        "\n",
        "for i in my_list:\n",
        "  if i%2!=0:\n",
        "    print(i, end= ' ')"
      ],
      "metadata": {
        "colab": {
          "base_uri": "https://localhost:8080/"
        },
        "id": "_T93uHONKGZ3",
        "outputId": "e5188de3-b733-4a45-e0d4-7e93be118e32"
      },
      "execution_count": 16,
      "outputs": [
        {
          "output_type": "stream",
          "name": "stdout",
          "text": [
            "1 3 9 15 17 19 "
          ]
        }
      ]
    },
    {
      "cell_type": "code",
      "source": [
        "# While loop"
      ],
      "metadata": {
        "id": "frHVm5Y2Kkt9"
      },
      "execution_count": 17,
      "outputs": []
    },
    {
      "cell_type": "code",
      "source": [
        "a=1\n",
        "while a<=10:\n",
        "  print(a)\n",
        "  a=a+1"
      ],
      "metadata": {
        "colab": {
          "base_uri": "https://localhost:8080/"
        },
        "id": "iFn08vukLWIn",
        "outputId": "9c715e2f-7d7e-4e6a-dd67-f0b49ab1e0ce"
      },
      "execution_count": 19,
      "outputs": [
        {
          "output_type": "stream",
          "name": "stdout",
          "text": [
            "1\n",
            "2\n",
            "3\n",
            "4\n",
            "5\n",
            "6\n",
            "7\n",
            "8\n",
            "9\n",
            "10\n"
          ]
        }
      ]
    },
    {
      "cell_type": "markdown",
      "source": [
        "Display all the number including 1 to 10"
      ],
      "metadata": {
        "id": "JOkAfvtXLvdn"
      }
    },
    {
      "cell_type": "code",
      "source": [
        "a=1\n",
        "while a<=10:\n",
        "  print(a)\n",
        "  a=a+1"
      ],
      "metadata": {
        "colab": {
          "base_uri": "https://localhost:8080/"
        },
        "id": "Qv_PiW7bLqHG",
        "outputId": "f7798165-2e30-4e7f-e8eb-5c27a4304b88"
      },
      "execution_count": 20,
      "outputs": [
        {
          "output_type": "stream",
          "name": "stdout",
          "text": [
            "1\n",
            "2\n",
            "3\n",
            "4\n",
            "5\n",
            "6\n",
            "7\n",
            "8\n",
            "9\n",
            "10\n"
          ]
        }
      ]
    },
    {
      "cell_type": "markdown",
      "source": [
        "Display all the even numbers including 0 to 20"
      ],
      "metadata": {
        "id": "9-83PyWDMH8P"
      }
    },
    {
      "cell_type": "code",
      "source": [
        "a=0\n",
        "while a<=20:\n",
        "  print(a)\n",
        "  a=a+2"
      ],
      "metadata": {
        "colab": {
          "base_uri": "https://localhost:8080/"
        },
        "id": "gLErlpA6MFKS",
        "outputId": "717b6ce4-fd5c-468f-d64c-8dd1906a2fa7"
      },
      "execution_count": 21,
      "outputs": [
        {
          "output_type": "stream",
          "name": "stdout",
          "text": [
            "0\n",
            "2\n",
            "4\n",
            "6\n",
            "8\n",
            "10\n",
            "12\n",
            "14\n",
            "16\n",
            "18\n",
            "20\n"
          ]
        }
      ]
    },
    {
      "cell_type": "code",
      "source": [
        "# Break statements\n",
        "fruits=['Mango','Grapes','Banana','Pineapple','Guava']\n",
        "for i in fruits:\n",
        "  if i=='Banana':\n",
        "    break\n",
        "  print(i)"
      ],
      "metadata": {
        "colab": {
          "base_uri": "https://localhost:8080/"
        },
        "id": "hk7q5jqJMffo",
        "outputId": "9f7d72a4-57aa-44a8-c9c9-f9bacfc494d9"
      },
      "execution_count": 23,
      "outputs": [
        {
          "output_type": "stream",
          "name": "stdout",
          "text": [
            "Mango\n",
            "Grapes\n"
          ]
        }
      ]
    },
    {
      "cell_type": "code",
      "source": [
        "for i in fruits:   #blank\n",
        "  if i=='Mango':\n",
        "    break\n",
        "  print(i)"
      ],
      "metadata": {
        "id": "wA-0RS5_NIfL"
      },
      "execution_count": 26,
      "outputs": []
    },
    {
      "cell_type": "code",
      "source": [
        "name='Jayakumar'\n",
        "for i in name:\n",
        "  if i=='k':\n",
        "    break\n",
        "  print(i, end= '')"
      ],
      "metadata": {
        "colab": {
          "base_uri": "https://localhost:8080/"
        },
        "id": "6Ooc_jmENav5",
        "outputId": "c400d8a4-8214-4b23-f401-c00c9244247f"
      },
      "execution_count": 31,
      "outputs": [
        {
          "output_type": "stream",
          "name": "stdout",
          "text": [
            "Jaya"
          ]
        }
      ]
    },
    {
      "cell_type": "code",
      "source": [
        "# Continue statements\n",
        "fruits=['Mango','Grapes','Banana','Pineapple','Guava']\n",
        "for i in fruits:\n",
        "  if i=='Banana':\n",
        "    continue\n",
        "  print(i,end='  ')"
      ],
      "metadata": {
        "colab": {
          "base_uri": "https://localhost:8080/"
        },
        "id": "uDc5iEezNzS6",
        "outputId": "2b33ea09-3970-4ddb-b65e-23d58b4618ac"
      },
      "execution_count": 35,
      "outputs": [
        {
          "output_type": "stream",
          "name": "stdout",
          "text": [
            "Mango  Grapes  Pineapple  Guava  "
          ]
        }
      ]
    },
    {
      "cell_type": "code",
      "source": [
        ""
      ],
      "metadata": {
        "id": "WjWK_i3HOcQR"
      },
      "execution_count": null,
      "outputs": []
    }
  ]
}